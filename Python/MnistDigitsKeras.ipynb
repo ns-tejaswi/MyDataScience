{
 "cells": [
  {
   "cell_type": "code",
   "execution_count": 2,
   "metadata": {},
   "outputs": [],
   "source": [
    "## A simple implementation of ANN for MNIST\n",
    "import random\n",
    "import numpy as np\n",
    "import keras\n",
    "from keras.datasets import mnist\n",
    "from keras.models import Sequential\n",
    "from keras.layers.core import Dense, Dropout,Activation\n",
    "from keras.optimizers import RMSprop\n",
    "from keras.utils import np_utils\n",
    "from keras import backend as K\n",
    "#Image Dimension:::  In Tensorflow:(64,64,3)     ..In THEANO:(3,64,64) i.e. channel goes first\n",
    "K.set_image_dim_ordering('tf')  # always check u r using the correct image dimension\n",
    "import matplotlib.pyplot as plt\n",
    "%matplotlib inline"
   ]
  },
  {
   "cell_type": "code",
   "execution_count": 3,
   "metadata": {
    "collapsed": true
   },
   "outputs": [],
   "source": [
    "## Set the full path to mnist.pkl.gz\n",
    "## Point this to the data folder inside the repository\n",
    "path_to_dataset = \"./mnist.pkl.gz\""
   ]
  },
  {
   "cell_type": "code",
   "execution_count": 5,
   "metadata": {},
   "outputs": [
    {
     "name": "stdout",
     "output_type": "stream",
     "text": [
      "Downloading data from https://s3.amazonaws.com/img-datasets/mnist.npz\n",
      "11419648/11490434 [============================>.] - ETA: 0s"
     ]
    }
   ],
   "source": [
    "## Load the dataset\n",
    "(X_train,y_train),(X_test, y_test) = mnist.load_data(path_to_dataset)"
   ]
  },
  {
   "cell_type": "code",
   "execution_count": 6,
   "metadata": {},
   "outputs": [
    {
     "name": "stdout",
     "output_type": "stream",
     "text": [
      "(60000, 28, 28) (60000,)\n",
      "(10000, 28, 28) (10000,)\n"
     ]
    }
   ],
   "source": [
    "print(X_train.shape, y_train.shape)\n",
    "print(X_test.shape,y_test.shape)"
   ]
  },
  {
   "cell_type": "markdown",
   "metadata": {},
   "source": [
    "X_train = X_train.reshape(60000,784)\n",
    "X_test = X_test.reshape(10000,784)\n",
    "X_train = X_train.astype('float32')\n",
    "X_test = X_test.astype('float32')\n",
    "X_train /=255\n",
    "X_test /=255\n",
    "print(X_train.shape[0],'train_samples')\n",
    "print(X_test.shape[0],'test_samples')\n"
   ]
  },
  {
   "cell_type": "code",
   "execution_count": 10,
   "metadata": {},
   "outputs": [
    {
     "name": "stdout",
     "output_type": "stream",
     "text": [
      "(60000, 10)\n"
     ]
    }
   ],
   "source": [
    "batch_size = 128\n",
    "nb_classes =10\n",
    "nb_epochs = 10\n",
    "\n",
    "# convert class vectors to binary class matrices for softmax layer\n",
    "Y_train = keras.utils.np_utils.to_categorical(y_train,nb_classes)\n",
    "Y_test = keras.utils.np_utils.to_categorical(y_test,nb_classes)\n",
    "## for example 6's label is now [0,0,0,0,0,0,0,0]\n",
    "\n",
    "print(Y_train.shape)"
   ]
  },
  {
   "cell_type": "markdown",
   "metadata": {},
   "source": [
    "MODEL DEFINITION"
   ]
  },
  {
   "cell_type": "code",
   "execution_count": 15,
   "metadata": {},
   "outputs": [],
   "source": [
    "model = Sequential()\n",
    "model.add(Dense(512,input_shape=(784,)))\n",
    "model.add(Activation('relu'))\n",
    "model.add(Dropout(0.2))\n",
    "model.add(Dense(512))\n",
    "model.add(Activation('relu'))\n",
    "model.add(Dropout(0.2))\n",
    "model.add(Dense(10))\n",
    "model.add(Activation('softmax'))"
   ]
  },
  {
   "cell_type": "code",
   "execution_count": 16,
   "metadata": {},
   "outputs": [
    {
     "name": "stdout",
     "output_type": "stream",
     "text": [
      "_________________________________________________________________\n",
      "Layer (type)                 Output Shape              Param #   \n",
      "=================================================================\n",
      "dense_1 (Dense)              (None, 512)               401920    \n",
      "_________________________________________________________________\n",
      "activation_1 (Activation)    (None, 512)               0         \n",
      "_________________________________________________________________\n",
      "dropout_1 (Dropout)          (None, 512)               0         \n",
      "_________________________________________________________________\n",
      "dense_2 (Dense)              (None, 512)               262656    \n",
      "_________________________________________________________________\n",
      "activation_2 (Activation)    (None, 512)               0         \n",
      "_________________________________________________________________\n",
      "dropout_2 (Dropout)          (None, 512)               0         \n",
      "_________________________________________________________________\n",
      "dense_3 (Dense)              (None, 10)                5130      \n",
      "_________________________________________________________________\n",
      "activation_3 (Activation)    (None, 10)                0         \n",
      "=================================================================\n",
      "Total params: 669,706\n",
      "Trainable params: 669,706\n",
      "Non-trainable params: 0\n",
      "_________________________________________________________________\n"
     ]
    }
   ],
   "source": [
    "model.summary()"
   ]
  },
  {
   "cell_type": "markdown",
   "metadata": {},
   "source": [
    "MODEL COMPILATION"
   ]
  },
  {
   "cell_type": "code",
   "execution_count": 17,
   "metadata": {
    "collapsed": true
   },
   "outputs": [],
   "source": [
    "model.compile(loss='categorical_crossentropy',optimizer=RMSprop(),metrics=['accuracy'])"
   ]
  },
  {
   "cell_type": "code",
   "execution_count": 19,
   "metadata": {},
   "outputs": [
    {
     "name": "stderr",
     "output_type": "stream",
     "text": [
      "C:\\Users\\prassha\\AppData\\Local\\Continuum\\Anaconda3\\lib\\site-packages\\keras\\models.py:844: UserWarning: The `nb_epoch` argument in `fit` has been renamed `epochs`.\n",
      "  warnings.warn('The `nb_epoch` argument in `fit` '\n"
     ]
    },
    {
     "name": "stdout",
     "output_type": "stream",
     "text": [
      "Train on 60000 samples, validate on 10000 samples\n",
      "Epoch 1/10\n",
      "60000/60000 [==============================] - 24s - loss: 0.2431 - acc: 0.9254 - val_loss: 0.1269 - val_acc: 0.9621\n",
      "Epoch 2/10\n",
      "60000/60000 [==============================] - 13s - loss: 0.1024 - acc: 0.9688 - val_loss: 0.0856 - val_acc: 0.9729\n",
      "Epoch 3/10\n",
      "60000/60000 [==============================] - 13s - loss: 0.0740 - acc: 0.9777 - val_loss: 0.0726 - val_acc: 0.9788\n",
      "Epoch 4/10\n",
      "60000/60000 [==============================] - 13s - loss: 0.0599 - acc: 0.9817 - val_loss: 0.0669 - val_acc: 0.9810\n",
      "Epoch 5/10\n",
      "60000/60000 [==============================] - 14s - loss: 0.0498 - acc: 0.9851 - val_loss: 0.0769 - val_acc: 0.9792\n",
      "Epoch 6/10\n",
      "60000/60000 [==============================] - 13s - loss: 0.0435 - acc: 0.9872 - val_loss: 0.0755 - val_acc: 0.9799\n",
      "Epoch 7/10\n",
      "60000/60000 [==============================] - 13s - loss: 0.0378 - acc: 0.9888 - val_loss: 0.0912 - val_acc: 0.9795\n",
      "Epoch 8/10\n",
      "60000/60000 [==============================] - 13s - loss: 0.0341 - acc: 0.9901 - val_loss: 0.0826 - val_acc: 0.9837\n",
      "Epoch 9/10\n",
      "60000/60000 [==============================] - 14s - loss: 0.0310 - acc: 0.9914 - val_loss: 0.0800 - val_acc: 0.9826\n",
      "Epoch 10/10\n",
      "60000/60000 [==============================] - 14s - loss: 0.0272 - acc: 0.9920 - val_loss: 0.0923 - val_acc: 0.9820\n"
     ]
    }
   ],
   "source": [
    "history = model.fit(X_train,Y_train,\n",
    "                   batch_size=batch_size,nb_epoch=nb_epochs,\n",
    "                   verbose=1,validation_data=(X_test,Y_test))"
   ]
  },
  {
   "cell_type": "code",
   "execution_count": 20,
   "metadata": {},
   "outputs": [
    {
     "data": {
      "text/plain": [
       "{'batch_size': 128,\n",
       " 'do_validation': True,\n",
       " 'epochs': 10,\n",
       " 'metrics': ['loss', 'acc', 'val_loss', 'val_acc'],\n",
       " 'samples': 60000,\n",
       " 'verbose': 1}"
      ]
     },
     "execution_count": 20,
     "metadata": {},
     "output_type": "execute_result"
    }
   ],
   "source": [
    "## we can check the param of the model after training\n",
    "history.params"
   ]
  },
  {
   "cell_type": "code",
   "execution_count": 21,
   "metadata": {},
   "outputs": [
    {
     "data": {
      "text/plain": [
       "{'acc': [0.92539999996821087,\n",
       "  0.96875,\n",
       "  0.97770000000000001,\n",
       "  0.98173333330154422,\n",
       "  0.98509999999999998,\n",
       "  0.9871500000317891,\n",
       "  0.98878333330154422,\n",
       "  0.99009999999999998,\n",
       "  0.99138333333333328,\n",
       "  0.99203333333333332],\n",
       " 'loss': [0.24306186430851617,\n",
       "  0.10241646350622177,\n",
       "  0.074045213498175139,\n",
       "  0.05993780317977071,\n",
       "  0.04978033597295483,\n",
       "  0.043547396647930142,\n",
       "  0.037821342162663737,\n",
       "  0.034101896805347254,\n",
       "  0.031037697566005711,\n",
       "  0.02718515122255],\n",
       " 'val_acc': [0.96209999999999996,\n",
       "  0.97289999999999999,\n",
       "  0.9788,\n",
       "  0.98099999999999998,\n",
       "  0.97919999999999996,\n",
       "  0.97989999999999999,\n",
       "  0.97950000000000004,\n",
       "  0.98370000000000002,\n",
       "  0.98260000000000003,\n",
       "  0.98199999999999998],\n",
       " 'val_loss': [0.12690679808259012,\n",
       "  0.085576612854003906,\n",
       "  0.072642266020923857,\n",
       "  0.066926550019974815,\n",
       "  0.076914661341672769,\n",
       "  0.075545392327068833,\n",
       "  0.091223234136444814,\n",
       "  0.082562959535460681,\n",
       "  0.079975112177579286,\n",
       "  0.092299355368274702]}"
      ]
     },
     "execution_count": 21,
     "metadata": {},
     "output_type": "execute_result"
    }
   ],
   "source": [
    "history.history"
   ]
  },
  {
   "cell_type": "markdown",
   "metadata": {},
   "source": [
    "EVALUATION AND PREDICTION"
   ]
  },
  {
   "cell_type": "code",
   "execution_count": 22,
   "metadata": {},
   "outputs": [
    {
     "name": "stdout",
     "output_type": "stream",
     "text": [
      "Test score: 0.0922993640328\n",
      "Test accuracy: 0.982\n"
     ]
    }
   ],
   "source": [
    "score = model.evaluate(X_test,Y_test,verbose=0)\n",
    "print('Test score:', score[0])\n",
    "print('Test accuracy:',score[1])"
   ]
  },
  {
   "cell_type": "markdown",
   "metadata": {},
   "source": [
    "Now lets predict one single sample"
   ]
  },
  {
   "cell_type": "code",
   "execution_count": 26,
   "metadata": {},
   "outputs": [
    {
     "name": "stdout",
     "output_type": "stream",
     "text": [
      "[ 0.  0.  0.  0.  0.  0.  0.  1.  0.  0.]\n"
     ]
    },
    {
     "data": {
      "text/plain": [
       "<matplotlib.image.AxesImage at 0x23550a76908>"
      ]
     },
     "execution_count": 26,
     "metadata": {},
     "output_type": "execute_result"
    },
    {
     "data": {
      "image/png": "[encoded data removed]",
      "text/plain": [
       "<matplotlib.figure.Figure at 0x2354867c550>"
      ]
     },
     "metadata": {},
     "output_type": "display_data"
    }
   ],
   "source": [
    "X_test_0 = X_test[0,:].reshape(1,784)\n",
    "Y_test_0 = Y_test[0,:]\n",
    "print(Y_test_0)\n",
    "plt.imshow(X_test_0.reshape(28,28))"
   ]
  },
  {
   "cell_type": "code",
   "execution_count": 29,
   "metadata": {},
   "outputs": [
    {
     "name": "stdout",
     "output_type": "stream",
     "text": [
      "Label of testing sample: 7\n",
      "\n",
      "Output of the softmax layer: [  2.98037133e-24   8.67462551e-19   2.12443354e-16   1.26270700e-14\n",
      "   2.76469579e-28   1.28870976e-18   1.76797381e-33   1.00000000e+00\n",
      "   3.10203522e-20   2.58616544e-15]\n",
      "\n",
      "Neural Network prediction: 7\n"
     ]
    }
   ],
   "source": [
    "pred = model.predict(X_test_0)\n",
    "print('Label of testing sample:', np.argmax(Y_test_0))\n",
    "print('\\nOutput of the softmax layer:',pred[0])\n",
    "print('\\nNeural Network prediction:', np.argmax(pred[0]))\n"
   ]
  },
  {
   "cell_type": "code",
   "execution_count": null,
   "metadata": {
    "collapsed": true
   },
   "outputs": [],
   "source": []
  }
 ],
 "metadata": {
  "kernelspec": {
   "display_name": "Python 3",
   "language": "python",
   "name": "python3"
  },
  "language_info": {
   "codemirror_mode": {
    "name": "ipython",
    "version": 3
   },
   "file_extension": ".py",
   "mimetype": "text/x-python",
   "name": "python",
   "nbconvert_exporter": "python",
   "pygments_lexer": "ipython3",
   "version": "3.6.1"
  }
 },
 "nbformat": 4,
 "nbformat_minor": 2
}
