{
 "cells": [
  {
   "cell_type": "code",
   "execution_count": 47,
   "metadata": {},
   "outputs": [
    {
     "data": {
      "text/html": [
       "<div>\n",
       "<style>\n",
       "    .dataframe thead tr:only-child th {\n",
       "        text-align: right;\n",
       "    }\n",
       "\n",
       "    .dataframe thead th {\n",
       "        text-align: left;\n",
       "    }\n",
       "\n",
       "    .dataframe tbody tr th {\n",
       "        vertical-align: top;\n",
       "    }\n",
       "</style>\n",
       "<table border=\"1\" class=\"dataframe\">\n",
       "  <thead>\n",
       "    <tr style=\"text-align: right;\">\n",
       "      <th></th>\n",
       "      <th>balance</th>\n",
       "      <th>var1</th>\n",
       "      <th>var2</th>\n",
       "      <th>var3</th>\n",
       "      <th>var4</th>\n",
       "    </tr>\n",
       "  </thead>\n",
       "  <tbody>\n",
       "    <tr>\n",
       "      <th>0</th>\n",
       "      <td>B</td>\n",
       "      <td>1</td>\n",
       "      <td>1</td>\n",
       "      <td>1</td>\n",
       "      <td>1</td>\n",
       "    </tr>\n",
       "    <tr>\n",
       "      <th>1</th>\n",
       "      <td>R</td>\n",
       "      <td>1</td>\n",
       "      <td>1</td>\n",
       "      <td>1</td>\n",
       "      <td>2</td>\n",
       "    </tr>\n",
       "    <tr>\n",
       "      <th>2</th>\n",
       "      <td>R</td>\n",
       "      <td>1</td>\n",
       "      <td>1</td>\n",
       "      <td>1</td>\n",
       "      <td>3</td>\n",
       "    </tr>\n",
       "    <tr>\n",
       "      <th>3</th>\n",
       "      <td>R</td>\n",
       "      <td>1</td>\n",
       "      <td>1</td>\n",
       "      <td>1</td>\n",
       "      <td>4</td>\n",
       "    </tr>\n",
       "    <tr>\n",
       "      <th>4</th>\n",
       "      <td>R</td>\n",
       "      <td>1</td>\n",
       "      <td>1</td>\n",
       "      <td>1</td>\n",
       "      <td>5</td>\n",
       "    </tr>\n",
       "  </tbody>\n",
       "</table>\n",
       "</div>"
      ],
      "text/plain": [
       "  balance  var1  var2  var3  var4\n",
       "0       B     1     1     1     1\n",
       "1       R     1     1     1     2\n",
       "2       R     1     1     1     3\n",
       "3       R     1     1     1     4\n",
       "4       R     1     1     1     5"
      ]
     },
     "execution_count": 47,
     "metadata": {},
     "output_type": "execute_result"
    }
   ],
   "source": [
    "## https://elitedatascience.com/imbalanced-classes\n",
    "import pandas as pd\n",
    "import numpy as np\n",
    "\n",
    "df = pd.read_csv('balance-scale.data.txt',\n",
    "                names=['balance','var1','var2','var3','var4'])\n",
    "\n",
    "df.head()\n"
   ]
  },
  {
   "cell_type": "code",
   "execution_count": 48,
   "metadata": {},
   "outputs": [
    {
     "data": {
      "text/plain": [
       "'C:\\\\Users\\\\prassha\\\\Desktop\\\\MachineLearning\\\\Python\\\\ImbalanceData'"
      ]
     },
     "execution_count": 48,
     "metadata": {},
     "output_type": "execute_result"
    }
   ],
   "source": [
    "%pwd"
   ]
  },
  {
   "cell_type": "code",
   "execution_count": 49,
   "metadata": {},
   "outputs": [
    {
     "data": {
      "text/plain": [
       "L    288\n",
       "R    288\n",
       "B     49\n",
       "Name: balance, dtype: int64"
      ]
     },
     "execution_count": 49,
     "metadata": {},
     "output_type": "execute_result"
    }
   ],
   "source": [
    "df.balance.value_counts()  # df['balance'].value_counts()  ## both are same"
   ]
  },
  {
   "cell_type": "code",
   "execution_count": 50,
   "metadata": {},
   "outputs": [
    {
     "data": {
      "text/plain": [
       "0    576\n",
       "1     49\n",
       "Name: balance, dtype: int64"
      ]
     },
     "execution_count": 50,
     "metadata": {},
     "output_type": "execute_result"
    }
   ],
   "source": [
    "df.balance = [1 if b == 'B' else 0 for b in df.balance]\n",
    "df.balance.value_counts()"
   ]
  },
  {
   "cell_type": "code",
   "execution_count": 51,
   "metadata": {
    "collapsed": true
   },
   "outputs": [],
   "source": [
    "from sklearn.linear_model import LogisticRegression\n",
    "from sklearn.metrics import accuracy_score\n",
    "y = df.balance\n",
    "X = df.drop('balance', axis =1)\n",
    "clf_0 = LogisticRegression().fit(X,y)\n",
    "pred_y_0 = clf_0.predict(X)\n"
   ]
  },
  {
   "cell_type": "code",
   "execution_count": 52,
   "metadata": {},
   "outputs": [
    {
     "name": "stdout",
     "output_type": "stream",
     "text": [
      "Accuracy_score:: 0.9216\n"
     ]
    }
   ],
   "source": [
    "print(\"Accuracy_score::\", accuracy_score(pred_y_0,y))"
   ]
  },
  {
   "cell_type": "code",
   "execution_count": 53,
   "metadata": {},
   "outputs": [
    {
     "name": "stdout",
     "output_type": "stream",
     "text": [
      "np.unique(pred_y_0):: [0]\n"
     ]
    }
   ],
   "source": [
    "print(\"np.unique(pred_y_0)::\", np.unique(pred_y_0))"
   ]
  },
  {
   "cell_type": "code",
   "execution_count": 54,
   "metadata": {
    "collapsed": true
   },
   "outputs": [],
   "source": [
    "##As you can see, this model is only predicting 0, which means it's completely ignoring \n",
    "##the minority class in favor of the majority class."
   ]
  },
  {
   "cell_type": "markdown",
   "metadata": {},
   "source": [
    "1. Up-sample Minority Class\n",
    "\n",
    "Next, we'll create a new DataFrame with an up-sampled minority class. Here are the steps:\n",
    "\n",
    "1.First, we'll separate observations from each class into different DataFrames\n",
    "\n",
    "2.Next, we'll resample the minority class with replacement, setting the number of samples to match that of the majority class.\n",
    "\n",
    "3.Finally, we'll combine the up-sampled minority class DataFrame with the original majority class DataFrame."
   ]
  },
  {
   "cell_type": "code",
   "execution_count": 14,
   "metadata": {},
   "outputs": [
    {
     "data": {
      "text/plain": [
       "1    576\n",
       "0    576\n",
       "Name: balance, dtype: int64"
      ]
     },
     "execution_count": 14,
     "metadata": {},
     "output_type": "execute_result"
    }
   ],
   "source": [
    "from sklearn.utils import resample\n",
    "# Separate majority and minority classes\n",
    "df_majority = df[df.balance == 0]\n",
    "df_minority = df[df.balance == 1]\n",
    "\n",
    "# Upsample minority class\n",
    "df_minority_upsample = resample(df_minority,\n",
    "                               replace=True,\n",
    "                               n_samples=576,\n",
    "                               random_state=123)\n",
    "\n",
    "df_upsampled = pd.concat([df_majority, df_minority_upsample])\n",
    "\n",
    "df_upsampled.balance.value_counts()"
   ]
  },
  {
   "cell_type": "markdown",
   "metadata": {},
   "source": [
    "As you can see, the new DataFrame has more observations than the original, and the ratio of the two classes is now 1:1.\n",
    "\n",
    "Let's train another model using Logistic Regression, this time on the balanced dataset:"
   ]
  },
  {
   "cell_type": "code",
   "execution_count": 15,
   "metadata": {},
   "outputs": [
    {
     "name": "stdout",
     "output_type": "stream",
     "text": [
      "np.unique(pred_y_1):: [0 1]\n"
     ]
    }
   ],
   "source": [
    "y = df_upsampled.balance\n",
    "X = df_upsampled.drop('balance', axis =1)\n",
    "\n",
    "clf_1 = LogisticRegression().fit(X,y)\n",
    "pred_y_1 = clf_1.predict(X)\n",
    "print(\"np.unique(pred_y_1)::\", np.unique(pred_y_1))"
   ]
  },
  {
   "cell_type": "code",
   "execution_count": 18,
   "metadata": {},
   "outputs": [
    {
     "name": "stdout",
     "output_type": "stream",
     "text": [
      "Accuracy_score after upscaling:: 0.513888888889\n"
     ]
    }
   ],
   "source": [
    "print(\"Accuracy_score after upscaling::\", accuracy_score(y,pred_y_1))"
   ]
  },
  {
   "cell_type": "markdown",
   "metadata": {},
   "source": [
    "Great, now the model is no longer predicting just one class. While the accuracy also took a nosedive, it's now more meaningful as a performance metric."
   ]
  },
  {
   "cell_type": "markdown",
   "metadata": {},
   "source": [
    "#######################################################################################################################\n",
    "2. Down-sample Majority Class\n",
    "Down-sampling involves randomly removing observations from the majority class to prevent its signal from dominating the learning algorithm.\n",
    "\n",
    "The most common heuristic for doing so is resampling without replacement.\n",
    "\n",
    "The process is similar to that of up-sampling. Here are the steps:\n",
    "\n",
    "1.First, we'll separate observations from each class into different DataFrames.\n",
    "\n",
    "2.Next, we'll resample the majority class without replacement, setting the number of samples to match that of the minority class.\n",
    "\n",
    "3.Finally, we'll combine the down-sampled majority class DataFrame with the original minority class DataFrame."
   ]
  },
  {
   "cell_type": "code",
   "execution_count": 20,
   "metadata": {},
   "outputs": [
    {
     "data": {
      "text/plain": [
       "1    49\n",
       "0    49\n",
       "Name: balance, dtype: int64"
      ]
     },
     "execution_count": 20,
     "metadata": {},
     "output_type": "execute_result"
    }
   ],
   "source": [
    "# Separate majority and minority classes\n",
    "df_majority = df[df.balance == 0]\n",
    "df_minority = df[df.balance == 1]\n",
    "\n",
    "df_majority_downsampled = resample(df_majority,\n",
    "                                  replace=False,\n",
    "                                  n_samples = 49,\n",
    "                                  random_state = 123)\n",
    "\n",
    "\n",
    "# Combine minority class with downsampled majority class\n",
    "df_downsampled = pd.concat([df_majority_downsampled,df_minority])\n",
    "\n",
    "df_downsampled.balance.value_counts()"
   ]
  },
  {
   "cell_type": "code",
   "execution_count": 21,
   "metadata": {},
   "outputs": [
    {
     "name": "stdout",
     "output_type": "stream",
     "text": [
      "[0 1]\n"
     ]
    }
   ],
   "source": [
    "#####  https://elitedatascience.com/imbalanced-classes\n",
    "# Separate input features (X) and target variable (y)\n",
    "y = df_downsampled.balance\n",
    "X = df_downsampled.drop('balance', axis = 1)\n",
    "\n",
    "clf_2 = LogisticRegression().fit(X,y)\n",
    "\n",
    "pred_y_2 = clf_2.predict(X)\n",
    "\n",
    "# Is our model still predicting just one class?\n",
    "print(np.unique(pred_y_2))"
   ]
  },
  {
   "cell_type": "code",
   "execution_count": 22,
   "metadata": {},
   "outputs": [
    {
     "name": "stdout",
     "output_type": "stream",
     "text": [
      "0.581632653061\n"
     ]
    }
   ],
   "source": [
    "# How's our accuracy?\n",
    "print( accuracy_score(y, pred_y_2) )"
   ]
  },
  {
   "cell_type": "markdown",
   "metadata": {},
   "source": [
    "The model isn't predicting just one class, and the accuracy seems higher.\n",
    "\n",
    "We'd still want to validate the model on an unseen test dataset, but the results are more encouraging.\n",
    "###########################################################################################################"
   ]
  },
  {
   "cell_type": "code",
   "execution_count": 26,
   "metadata": {},
   "outputs": [
    {
     "name": "stdout",
     "output_type": "stream",
     "text": [
      "confusion::\n",
      " [[29 20]\n",
      " [21 28]]\n",
      "Accuracy: 0.58\n",
      "Precision: 0.58\n",
      "Recall: 0.57\n",
      "F1: 0.58\n"
     ]
    }
   ],
   "source": [
    "from sklearn.metrics import confusion_matrix\n",
    "confusion = confusion_matrix(y, pred_y_2)\n",
    "print(\"confusion::\\n\", confusion)\n",
    "\n",
    "from sklearn.metrics import accuracy_score, precision_score, recall_score, f1_score\n",
    "# Accuracy = TP + TN / (TP + TN + FP + FN)\n",
    "# Precision = TP / (TP + FP)\n",
    "# Recall = TP / (TP + FN)  Also known as sensitivity, or True Positive Rate\n",
    "# F1 = 2 * Precision * Recall / (Precision + Recall) \n",
    "print('Accuracy: {:.2f}'.format(accuracy_score(y, pred_y_2)))\n",
    "print('Precision: {:.2f}'.format(precision_score(y, pred_y_2)))\n",
    "print('Recall: {:.2f}'.format(recall_score(y, pred_y_2)))\n",
    "print('F1: {:.2f}'.format(f1_score(y, pred_y_2)))"
   ]
  },
  {
   "cell_type": "code",
   "execution_count": 27,
   "metadata": {
    "collapsed": true
   },
   "outputs": [],
   "source": [
    "clf_2_decisionFunction = clf_2.decision_function(X)"
   ]
  },
  {
   "cell_type": "code",
   "execution_count": 28,
   "metadata": {},
   "outputs": [
    {
     "data": {
      "text/plain": [
       "array([-0.18374736, -0.07179233, -0.12567206, -0.08531656,  0.32868165,\n",
       "        0.23457575, -0.29533321,  0.32676845, -0.0676336 ,  0.2507147 ,\n",
       "       -0.12292802, -0.22185732,  0.31099869,  0.32918016,  0.21705896,\n",
       "        0.15677497, -0.21753242, -0.16361585,  0.23216405, -0.21927945,\n",
       "       -0.29549938, -0.21495455,  0.14133754,  0.08035203,  0.19904366,\n",
       "       -0.20176266,  0.0848431 , -0.21961179, -0.23696242, -0.09172083,\n",
       "        0.28882466, -0.08273869, -0.12342652, -0.27781642,  0.25329257,\n",
       "       -0.10333186, -0.03176917, -0.04687426,  0.29107019, -0.01150834,\n",
       "        0.1546956 , -0.0719585 ,  0.10285839,  0.0401627 , -0.16348653,\n",
       "       -0.25481155, -0.21686775, -0.29500087,  0.29298339, -0.21462222,\n",
       "       -0.06472339, -0.19693925,  0.08517543, -0.17925629,  0.23507426,\n",
       "       -0.0291913 , -0.16157333,  0.38497308, -0.14389037, -0.10266719,\n",
       "       -0.23488305,  0.17928133, -0.08498422, -0.21736625,  0.0649146 ,\n",
       "       -0.06730126,  0.21481342, -0.0496183 ,  0.36471225, -0.03193534,\n",
       "        0.00928784, -0.25514388,  0.02697081, -0.10524506,  0.04465377,\n",
       "        0.19455259,  0.06233673,  0.34445142,  0.08001969,  0.12124287,\n",
       "       -0.14302268, -0.27540471,  0.13892584, -0.12550589,  0.1566088 ,\n",
       "        0.02439294,  0.17429176,  0.32419058,  0.19197472,  0.2331979 ,\n",
       "       -0.29566554,  0.25088087, -0.14576672,  0.26856383,  0.0041321 ,\n",
       "        0.28624679,  0.15403093,  0.30392975])"
      ]
     },
     "execution_count": 28,
     "metadata": {},
     "output_type": "execute_result"
    }
   ],
   "source": [
    "clf_2_decisionFunction"
   ]
  },
  {
   "cell_type": "code",
   "execution_count": 31,
   "metadata": {},
   "outputs": [
    {
     "data": {
      "text/plain": [
       "[(0, -0.18374736130018848),\n",
       " (0, -0.071792331220603911),\n",
       " (0, -0.12567205631383987),\n",
       " (0, -0.085316560053083912),\n",
       " (0, 0.32868165310553532),\n",
       " (0, 0.23457575297938416),\n",
       " (0, -0.29533320975821026),\n",
       " (0, 0.3267684539697604),\n",
       " (0, -0.067633597716118377),\n",
       " (0, 0.25071469780213762),\n",
       " (0, -0.12292801909572568),\n",
       " (0, -0.22185732319223381),\n",
       " (0, 0.31099869076856979),\n",
       " (0, 0.32918015595493888),\n",
       " (0, 0.21705895825888655),\n",
       " (0, 0.15677496529245438),\n",
       " (0, -0.2175324220712804),\n",
       " (0, -0.16361585058941736),\n",
       " (0, 0.23216405099420567),\n",
       " (0, -0.21927945359058745),\n",
       " (0, -0.29549937737467813),\n",
       " (0, -0.21495455246963405),\n",
       " (0, 0.1413375373241994),\n",
       " (0, 0.080352027503268753),\n",
       " (0, 0.19904366068898527),\n",
       " (0, -0.20176265887008976),\n",
       " (0, 0.08484309624069003),\n",
       " (0, -0.21961178882352317),\n",
       " (0, -0.23696241592755302),\n",
       " (0, -0.091720827926280113),\n",
       " (0, 0.28882465969418292),\n",
       " (0, -0.082738690451437558),\n",
       " (0, -0.12342652194512926),\n",
       " (0, -0.27781641503771254),\n",
       " (0, 0.25329256740378403),\n",
       " (0, -0.10333185762298519),\n",
       " (0, -0.031769170192783691),\n",
       " (0, -0.046874262928102872),\n",
       " (0, 0.29107019406289358),\n",
       " (0, -0.011508338254171746),\n",
       " (0, 0.15469559854021159),\n",
       " (0, -0.071958498837071783),\n",
       " (0, 0.10285839381059131),\n",
       " (0, 0.040162698858980661),\n",
       " (0, -0.16348652936157657),\n",
       " (0, -0.25481154588098642),\n",
       " (0, -0.21686775160540894),\n",
       " (0, -0.29500087452527451),\n",
       " (0, 0.29298339319866851),\n",
       " (1, -0.2146222172366983),\n",
       " (1, -0.064723392881536279),\n",
       " (1, -0.19693925489973277),\n",
       " (1, 0.085175431473625773),\n",
       " (1, -0.17925629256276721),\n",
       " (1, 0.23507425582878783),\n",
       " (1, -0.029191300591137281),\n",
       " (1, -0.16157333022580164),\n",
       " (1, 0.38497308018394982),\n",
       " (1, -0.14389036788883608),\n",
       " (1, -0.10266718715711376),\n",
       " (1, -0.23488304917531022),\n",
       " (1, 0.17928133159977688),\n",
       " (1, -0.084984224820148169),\n",
       " (1, -0.21736625445481253),\n",
       " (1, 0.064914599535013828),\n",
       " (1, -0.067301262483182633),\n",
       " (1, 0.21481342389017588),\n",
       " (1, -0.049618300146217098),\n",
       " (1, 0.36471224824533788),\n",
       " (1, -0.031935337809251507),\n",
       " (1, 0.0092878429224708126),\n",
       " (1, -0.25514388111392217),\n",
       " (1, 0.026970805259436348),\n",
       " (1, -0.10524505675876011),\n",
       " (1, 0.044653767596401939),\n",
       " (1, 0.19455259195156394),\n",
       " (1, 0.062336729933367474),\n",
       " (1, 0.34445141630672604),\n",
       " (1, 0.080019692270333065),\n",
       " (1, 0.12124287300205538),\n",
       " (1, -0.14302268341786972),\n",
       " (1, -0.27540471305253406),\n",
       " (1, 0.13892583533902092),\n",
       " (1, -0.12550588869737203),\n",
       " (1, 0.15660879767598646),\n",
       " (1, 0.024392935657789994),\n",
       " (1, 0.1742917600129521),\n",
       " (1, 0.3241905843681141),\n",
       " (1, 0.19197472234991764),\n",
       " (1, 0.2331979030816399),\n",
       " (1, -0.29566554499114595),\n",
       " (1, 0.25088086541860555),\n",
       " (1, -0.14576672063598392),\n",
       " (1, 0.26856382775557108),\n",
       " (1, 0.004132103719178104),\n",
       " (1, 0.28624679009253662),\n",
       " (1, 0.15403092807434016),\n",
       " (1, 0.30392975242950215)]"
      ]
     },
     "execution_count": 31,
     "metadata": {},
     "output_type": "execute_result"
    }
   ],
   "source": [
    "clf_2_y_score_list = list(zip(y, clf_2_decisionFunction))\n",
    "clf_2_y_score_list"
   ]
  },
  {
   "cell_type": "markdown",
   "metadata": {},
   "source": [
    "3. Change Your Performance Metric\n",
    "So far, we've looked at two ways of addressing imbalanced classes by resampling the dataset. Next, we'll look at using other performance metrics for evaluating the models.\n",
    "\n",
    "Albert Einstein once said, \"if you judge a fish on its ability to climb a tree, it will live its whole life believing that it is stupid.\" This quote really highlights the importance of choosing the right evaluation metric.\n",
    "\n",
    "For a general-purpose metric for classification, we recommend Area Under ROC Curve (AUROC).\n",
    "\n",
    "We won't dive into its details in this guide, but you can read more about it here.\n",
    "Intuitively, AUROC represents the likelihood of your model distinguishing observations from two classes.\n",
    "In other words, if you randomly select one observation from each class, what's the probability that your model will be able to \"rank\" them correctly?"
   ]
  },
  {
   "cell_type": "code",
   "execution_count": 33,
   "metadata": {},
   "outputs": [
    {
     "data": {
      "text/plain": [
       "array([[ 0.54580803,  0.45419197],\n",
       "       [ 0.51794038,  0.48205962],\n",
       "       [ 0.53137673,  0.46862327],\n",
       "       [ 0.52131621,  0.47868379],\n",
       "       [ 0.41856143,  0.58143857],\n",
       "       [ 0.4416235 ,  0.5583765 ],\n",
       "       [ 0.57330129,  0.42669871],\n",
       "       [ 0.41902712,  0.58097288],\n",
       "       [ 0.51690196,  0.48309804],\n",
       "       [ 0.4376476 ,  0.5623524 ],\n",
       "       [ 0.53069336,  0.46930664],\n",
       "       [ 0.55523795,  0.44476205],\n",
       "       [ 0.42287099,  0.57712901],\n",
       "       [ 0.41844012,  0.58155988],\n",
       "       [ 0.44594732,  0.55405268],\n",
       "       [ 0.46088634,  0.53911366],\n",
       "       [ 0.55416966,  0.44583034],\n",
       "       [ 0.54081296,  0.45918704],\n",
       "       [ 0.44221829,  0.55778171],\n",
       "       [ 0.55460125,  0.44539875],\n",
       "       [ 0.57334194,  0.42665806],\n",
       "       [ 0.55353267,  0.44646733],\n",
       "       [ 0.46472432,  0.53527568],\n",
       "       [ 0.47992279,  0.52007721],\n",
       "       [ 0.45040272,  0.54959728],\n",
       "       [ 0.55027025,  0.44972975],\n",
       "       [ 0.47880194,  0.52119806],\n",
       "       [ 0.55468335,  0.44531665],\n",
       "       [ 0.55896495,  0.44103505],\n",
       "       [ 0.52291415,  0.47708585],\n",
       "       [ 0.42829163,  0.57170837],\n",
       "       [ 0.52067288,  0.47932712],\n",
       "       [ 0.53081752,  0.46918248],\n",
       "       [ 0.56901081,  0.43098919],\n",
       "       [ 0.43701325,  0.56298675],\n",
       "       [ 0.52581   ,  0.47419   ],\n",
       "       [ 0.50794162,  0.49205838],\n",
       "       [ 0.51171642,  0.48828358],\n",
       "       [ 0.42774189,  0.57225811],\n",
       "       [ 0.50287705,  0.49712295],\n",
       "       [ 0.46140304,  0.53859696],\n",
       "       [ 0.51798187,  0.48201813],\n",
       "       [ 0.47430805,  0.52569195],\n",
       "       [ 0.48996067,  0.51003933],\n",
       "       [ 0.54078084,  0.45921916],\n",
       "       [ 0.56336043,  0.43663957],\n",
       "       [ 0.55400544,  0.44599456],\n",
       "       [ 0.57321999,  0.42678001],\n",
       "       [ 0.42727364,  0.57272636],\n",
       "       [ 0.55345054,  0.44654946],\n",
       "       [ 0.5161752 ,  0.4838248 ],\n",
       "       [ 0.5490763 ,  0.4509237 ],\n",
       "       [ 0.47871901,  0.52128099],\n",
       "       [ 0.54469446,  0.45530554],\n",
       "       [ 0.44150058,  0.55849942],\n",
       "       [ 0.50729731,  0.49270269],\n",
       "       [ 0.54030569,  0.45969431],\n",
       "       [ 0.40492801,  0.59507199],\n",
       "       [ 0.53591065,  0.46408935],\n",
       "       [ 0.52564428,  0.47435572],\n",
       "       [ 0.55845227,  0.44154773],\n",
       "       [ 0.45529933,  0.54470067],\n",
       "       [ 0.52123328,  0.47876672],\n",
       "       [ 0.55412861,  0.44587139],\n",
       "       [ 0.48377705,  0.51622295],\n",
       "       [ 0.51681897,  0.48318103],\n",
       "       [ 0.44650221,  0.55349779],\n",
       "       [ 0.51240203,  0.48759797],\n",
       "       [ 0.40981934,  0.59018066],\n",
       "       [ 0.50798316,  0.49201684],\n",
       "       [ 0.49767806,  0.50232194],\n",
       "       [ 0.56344218,  0.43655782],\n",
       "       [ 0.49325771,  0.50674229],\n",
       "       [ 0.526287  ,  0.473713  ],\n",
       "       [ 0.48883841,  0.51116159],\n",
       "       [ 0.45151469,  0.54848531],\n",
       "       [ 0.48442086,  0.51557914],\n",
       "       [ 0.41472858,  0.58527142],\n",
       "       [ 0.48000574,  0.51999426],\n",
       "       [ 0.46972636,  0.53027364],\n",
       "       [ 0.53569485,  0.46430515],\n",
       "       [ 0.56841927,  0.43158073],\n",
       "       [ 0.46532429,  0.53467571],\n",
       "       [ 0.53133535,  0.46866465],\n",
       "       [ 0.46092763,  0.53907237],\n",
       "       [ 0.49390207,  0.50609793],\n",
       "       [ 0.45653703,  0.54346297],\n",
       "       [ 0.41965481,  0.58034519],\n",
       "       [ 0.45215318,  0.54784682],\n",
       "       [ 0.4419633 ,  0.5580367 ],\n",
       "       [ 0.57338258,  0.42661742],\n",
       "       [ 0.4376067 ,  0.5623933 ],\n",
       "       [ 0.53637729,  0.46362271],\n",
       "       [ 0.43325971,  0.56674029],\n",
       "       [ 0.49896698,  0.50103302],\n",
       "       [ 0.42892296,  0.57107704],\n",
       "       [ 0.46156822,  0.53843178],\n",
       "       [ 0.4245971 ,  0.5754029 ]])"
      ]
     },
     "execution_count": 33,
     "metadata": {},
     "output_type": "execute_result"
    }
   ],
   "source": [
    "from sklearn.metrics import roc_auc_score\n",
    "# Predict class probabilities\n",
    "prob_y_2 = clf_2.predict_proba(X)\n",
    "prob_y_2 "
   ]
  },
  {
   "cell_type": "code",
   "execution_count": 35,
   "metadata": {},
   "outputs": [
    {
     "data": {
      "text/plain": [
       "[0.45419197226479618,\n",
       " 0.48205962213283882,\n",
       " 0.46862327066392495,\n",
       " 0.47868378832689129,\n",
       " 0.58143856820159712]"
      ]
     },
     "execution_count": 35,
     "metadata": {},
     "output_type": "execute_result"
    }
   ],
   "source": [
    "# Keep only the positive class\n",
    "prob_y_2 = [p[1] for p in prob_y_2 ]\n",
    "prob_y_2[:5]"
   ]
  },
  {
   "cell_type": "code",
   "execution_count": 41,
   "metadata": {},
   "outputs": [
    {
     "name": "stdout",
     "output_type": "stream",
     "text": [
      "roc_auc: 0.568096626406\n",
      "###################################\n"
     ]
    },
    {
     "data": {
      "image/png": "[encoded data removed]",
      "text/plain": [
       "<matplotlib.figure.Figure at 0x1f7dde526d8>"
      ]
     },
     "metadata": {},
     "output_type": "display_data"
    }
   ],
   "source": [
    "## https://stackoverflow.com/questions/25009284/how-to-plot-roc-curve-in-python\n",
    "from sklearn.metrics import roc_curve, auc\n",
    "fpr, tpr, threshold = roc_curve(y,prob_y_2)\n",
    "roc_auc = auc(fpr,tpr)\n",
    "print(\"roc_auc:\",roc_auc)\n",
    "print(\"###################################\")\n",
    "\n",
    "import matplotlib.pyplot as plt\n",
    "plt.figure()\n",
    "plt.xlim([-0.01, 1.00])\n",
    "plt.ylim([-0.01, 1.01])\n",
    "plt.plot(fpr, tpr, lw=3, label='LogRegr ROC curve (area = {:0.2f})'.format(roc_auc))\n",
    "plt.xlabel('False Positive Rate', fontsize=16)\n",
    "plt.ylabel('True Positive Rate', fontsize=16)\n",
    "plt.title('ROC curve balance', fontsize=16)\n",
    "plt.legend(loc='lower right', fontsize=13)\n",
    "plt.plot([0, 1], [0, 1], color='navy', lw=3, linestyle='--')\n",
    "plt.axes().set_aspect('equal')\n",
    "plt.show()\n"
   ]
  },
  {
   "cell_type": "code",
   "execution_count": 36,
   "metadata": {},
   "outputs": [
    {
     "name": "stdout",
     "output_type": "stream",
     "text": [
      "roc_auc_score:: 0.568096626406\n"
     ]
    }
   ],
   "source": [
    "###So how did this model (trained on the down-sampled dataset) do in terms of AUROC?\n",
    "print(\"roc_auc_score::\", roc_auc_score(y,prob_y_2))\n"
   ]
  },
  {
   "cell_type": "markdown",
   "metadata": {},
   "source": [
    "Ok... and how does this compare to the original model trained on the imbalanced dataset?"
   ]
  },
  {
   "cell_type": "code",
   "execution_count": 37,
   "metadata": {},
   "outputs": [
    {
     "name": "stdout",
     "output_type": "stream",
     "text": [
      "roc_auc_score:: 0.474802165764\n"
     ]
    }
   ],
   "source": [
    "prob_y_0 = clf_0.predict_proba(X)\n",
    "prob_y_0 = [p[1] for p in prob_y_0]\n",
    "print(\"roc_auc_score::\", roc_auc_score(y,prob_y_0))"
   ]
  },
  {
   "cell_type": "markdown",
   "metadata": {},
   "source": [
    "4. Penalize Algorithms (Cost-Sensitive Training)\n",
    "\n",
    "The next tactic is to use penalized learning algorithms that increase the cost of classification mistakes on the minority class.\n",
    "\n",
    "A popular algorithm for this technique is Penalized-SVM:\n",
    "\n",
    "Support Vector MachinePython\n",
    "1\n",
    "from sklearn.svm import SVC\n",
    "During training, we can use the argument class_weight='balanced'  to penalize mistakes on the minority class by an amount proportional to how under-represented it is.\n",
    "\n",
    "We also want to include the argument probability=True  if we want to enable probability estimates for SVM algorithms.\n",
    "\n",
    "Let's train a model using Penalized-SVM on the original imbalanced dataset:\n",
    "\n"
   ]
  },
  {
   "cell_type": "code",
   "execution_count": 55,
   "metadata": {},
   "outputs": [
    {
     "name": "stdout",
     "output_type": "stream",
     "text": [
      "0    576\n",
      "1     49\n",
      "Name: balance, dtype: int64\n",
      "np.unique(pred_y_3): [0 1]\n",
      "accuracy_score: 0.688\n",
      "roc_auc_score(y, prob_y_3): 0.4694763322\n"
     ]
    }
   ],
   "source": [
    "# Separate input features (X) and target variable (y)\n",
    "y = df.balance\n",
    "X = df.drop('balance', axis = 1)\n",
    "print(y.value_counts())\n",
    "\n",
    "from sklearn.svm import SVC\n",
    "\n",
    "clf_3 = SVC(kernel='linear',\n",
    "           class_weight='balanced',#penelize\n",
    "           probability=True)\n",
    "clf_3.fit(X,y)\n",
    "# Predict on training set\n",
    "pred_y_3 = clf_3.predict(X)\n",
    "\n",
    "# Is our model still predicting just one class?\n",
    "print('np.unique(pred_y_3):', np.unique(pred_y_3))\n",
    "\n",
    "print(\"accuracy_score:\", accuracy_score(y, pred_y_3))\n",
    "\n",
    "# What about AUROC?\n",
    "prob_y_3 = clf_3.predict_proba(X)\n",
    "prob_y_3 = [p[1] for p in prob_y_3]\n",
    "\n",
    "print(\"roc_auc_score(y, prob_y_3):\", roc_auc_score(y,prob_y_3))"
   ]
  },
  {
   "cell_type": "code",
   "execution_count": 61,
   "metadata": {},
   "outputs": [
    {
     "name": "stdout",
     "output_type": "stream",
     "text": [
      "Fitting 3 folds for each of 40 candidates, totalling 120 fits\n"
     ]
    },
    {
     "name": "stderr",
     "output_type": "stream",
     "text": [
      "[Parallel(n_jobs=-1)]: Done  33 tasks      | elapsed:   12.5s\n",
      "[Parallel(n_jobs=-1)]: Done 120 out of 120 | elapsed:   12.9s finished\n"
     ]
    },
    {
     "name": "stdout",
     "output_type": "stream",
     "text": [
      "Grid best parameter(accuracy):: {'C': 0.001, 'gamma': 0.001, 'kernel': 'linear'}\n",
      "Grid best score(accuracy): 0.9216\n",
      "#######################################################################################################\n",
      "Fitting 3 folds for each of 40 candidates, totalling 120 fits\n",
      "Grid best parameter(roc):: {'C': 10, 'gamma': 0.01, 'kernel': 'rbf'}\n",
      "Grid best score(roc): 0.887324509804\n"
     ]
    },
    {
     "name": "stderr",
     "output_type": "stream",
     "text": [
      "[Parallel(n_jobs=-1)]: Done 120 out of 120 | elapsed:    5.4s finished\n"
     ]
    }
   ],
   "source": [
    "### lets apply Grid search in SVC\n",
    "from sklearn.model_selection import GridSearchCV\n",
    "clf_GS = SVC();\n",
    "Cs = [0.001, 0.01, 0.1, 1, 10]\n",
    "gammas = [0.001, 0.01, 0.1, 1]\n",
    "kernels = ['linear','rbf']\n",
    "params_grid = {'kernel': kernels, 'C': Cs, 'gamma' : gammas}\n",
    "\n",
    "grid_search_acc = GridSearchCV(clf_GS, param_grid = params_grid, scoring='accuracy', n_jobs = -1,verbose =2  )\n",
    "grid_search_acc.fit(X,y)\n",
    "\n",
    "print('Grid best parameter(accuracy)::', grid_search_acc.best_params_)\n",
    "print('Grid best score(accuracy):', grid_search_acc.best_score_)\n",
    "\n",
    "print(\"#######################################################################################################\")\n",
    "\n",
    "grid_search_roc = GridSearchCV(clf_GS, param_grid = params_grid, scoring='roc_auc', n_jobs = -1,verbose = 1 )\n",
    "\n",
    "grid_search_roc.fit(X,y)\n",
    "\n",
    "print('Grid best parameter(roc)::', grid_search_roc.best_params_)\n",
    "print('Grid best score(roc):', grid_search_roc.best_score_)"
   ]
  },
  {
   "cell_type": "markdown",
   "metadata": {},
   "source": [
    "#####################################################################\n",
    "5. Use Tree-Based Algorithms\n",
    "\n",
    "The final tactic we'll consider is using tree-based algorithms. Decision trees often perform well on imbalanced datasets because their hierarchical structure allows them to learn signals from both classes.\n",
    "\n",
    "In modern applied machine learning, tree ensembles (Random Forests, Gradient Boosted Trees, etc.) almost always outperform singular decision trees, so we'll jump right into those:"
   ]
  },
  {
   "cell_type": "code",
   "execution_count": 46,
   "metadata": {},
   "outputs": [
    {
     "name": "stdout",
     "output_type": "stream",
     "text": [
      "y.value_counts(): 0    576\n",
      "1     49\n",
      "Name: balance, dtype: int64\n",
      "np.unique( pred_y_4 ):: [0 1]\n",
      "accuracy_score(y,pred_y_4): 0.9792\n",
      "roc_auc_score(y, prob_y_4): 0.999415391156\n"
     ]
    }
   ],
   "source": [
    "from sklearn.ensemble import RandomForestClassifier\n",
    "# Separate input features (X) and target variable (y)\n",
    "y = df.balance\n",
    "X = df.drop('balance', axis=1)\n",
    "print(\"y.value_counts():\", y.value_counts())\n",
    "\n",
    "clf_4 = RandomForestClassifier().fit(X,y)\n",
    "# Predict on training set\n",
    "pred_y_4 = clf_4.predict(X)\n",
    "# Is our model still predicting just one class?\n",
    "print('np.unique( pred_y_4 )::', np.unique( pred_y_4 ) )\n",
    "\n",
    "# How's our accuracy?\n",
    "print('accuracy_score(y,pred_y_4):',accuracy_score(y,pred_y_4))\n",
    "\n",
    "# What about AUROC?\n",
    "prob_y_4 = clf_4.predict_proba(X)\n",
    "prob_y_4 =[p[1] for p in prob_y_4]\n",
    "print('roc_auc_score(y, prob_y_4):',roc_auc_score(y, prob_y_4))\n"
   ]
  },
  {
   "cell_type": "code",
   "execution_count": null,
   "metadata": {
    "collapsed": true
   },
   "outputs": [],
   "source": []
  }
 ],
 "metadata": {
  "kernelspec": {
   "display_name": "Python 3",
   "language": "python",
   "name": "python3"
  },
  "language_info": {
   "codemirror_mode": {
    "name": "ipython",
    "version": 3
   },
   "file_extension": ".py",
   "mimetype": "text/x-python",
   "name": "python",
   "nbconvert_exporter": "python",
   "pygments_lexer": "ipython3",
   "version": "3.6.1"
  }
 },
 "nbformat": 4,
 "nbformat_minor": 2
}
