{
 "cells": [
  {
   "cell_type": "code",
   "execution_count": 1,
   "metadata": {},
   "outputs": [
    {
     "name": "stderr",
     "output_type": "stream",
     "text": [
      "Using TensorFlow backend.\n"
     ]
    }
   ],
   "source": [
    "## Referred from::  https://www.youtube.com/watch?v=OUMDUq5OJLg&t=3297s\n",
    "## A simple implementation of ANN for MNIST\n",
    "import random\n",
    "import numpy as np\n",
    "import keras\n",
    "from keras.datasets import mnist\n",
    "from keras.models import Sequential\n",
    "from keras.layers.core import Dense, Dropout,Activation\n",
    "from keras.optimizers import RMSprop\n",
    "from keras.utils import np_utils\n",
    "from keras import backend as K\n",
    "#Image Dimension:::  In Tensorflow:(64,64,3)     ..In THEANO:(3,64,64) i.e. channel goes first\n",
    "K.set_image_dim_ordering('tf')  # always check u r using the correct image dimension\n",
    "import matplotlib.pyplot as plt\n",
    "%matplotlib inline"
   ]
  },
  {
   "cell_type": "code",
   "execution_count": 2,
   "metadata": {
    "collapsed": true
   },
   "outputs": [],
   "source": [
    "## Set the full path to mnist.pkl.gz\n",
    "## Point this to the data folder inside the repository\n",
    "path_to_dataset = \"./mnist.pkl.gz\""
   ]
  },
  {
   "cell_type": "code",
   "execution_count": 3,
   "metadata": {},
   "outputs": [],
   "source": [
    "## Load the dataset\n",
    "(X_train,y_train),(X_test, y_test) = mnist.load_data(path_to_dataset)"
   ]
  },
  {
   "cell_type": "code",
   "execution_count": 4,
   "metadata": {},
   "outputs": [
    {
     "name": "stdout",
     "output_type": "stream",
     "text": [
      "(60000, 28, 28) (60000,)\n",
      "(10000, 28, 28) (10000,)\n"
     ]
    }
   ],
   "source": [
    "print(X_train.shape, y_train.shape)\n",
    "print(X_test.shape,y_test.shape)"
   ]
  },
  {
   "cell_type": "code",
   "execution_count": 5,
   "metadata": {},
   "outputs": [
    {
     "name": "stdout",
     "output_type": "stream",
     "text": [
      "60000 train_samples\n",
      "10000 test_samples\n"
     ]
    }
   ],
   "source": [
    "X_train = X_train.reshape(60000,784)\n",
    "X_test = X_test.reshape(10000,784)\n",
    "X_train = X_train.astype('float32')\n",
    "X_test = X_test.astype('float32')\n",
    "X_train /=255\n",
    "X_test /=255\n",
    "print(X_train.shape[0],'train_samples')\n",
    "print(X_test.shape[0],'test_samples')\n"
   ]
  },
  {
   "cell_type": "code",
   "execution_count": 6,
   "metadata": {},
   "outputs": [
    {
     "name": "stdout",
     "output_type": "stream",
     "text": [
      "(60000, 10)\n"
     ]
    }
   ],
   "source": [
    "batch_size = 128\n",
    "nb_classes =10\n",
    "nb_epochs = 10\n",
    "\n",
    "# convert class vectors to binary class matrices for softmax layer\n",
    "Y_train = keras.utils.np_utils.to_categorical(y_train,nb_classes)\n",
    "Y_test = keras.utils.np_utils.to_categorical(y_test,nb_classes)\n",
    "## for example 6's label is now [0,0,0,0,0,0,0,0]\n",
    "\n",
    "print(Y_train.shape)"
   ]
  },
  {
   "cell_type": "markdown",
   "metadata": {},
   "source": [
    "MODEL DEFINITION"
   ]
  },
  {
   "cell_type": "code",
   "execution_count": 7,
   "metadata": {
    "collapsed": true
   },
   "outputs": [],
   "source": [
    "model = Sequential()\n",
    "model.add(Dense(512,input_shape=(784,)))\n",
    "model.add(Activation('relu'))\n",
    "model.add(Dropout(0.2))\n",
    "model.add(Dense(512))\n",
    "model.add(Activation('relu'))\n",
    "model.add(Dropout(0.2))\n",
    "model.add(Dense(10))\n",
    "model.add(Activation('softmax'))"
   ]
  },
  {
   "cell_type": "code",
   "execution_count": 8,
   "metadata": {},
   "outputs": [
    {
     "name": "stdout",
     "output_type": "stream",
     "text": [
      "_________________________________________________________________\n",
      "Layer (type)                 Output Shape              Param #   \n",
      "=================================================================\n",
      "dense_1 (Dense)              (None, 512)               401920    \n",
      "_________________________________________________________________\n",
      "activation_1 (Activation)    (None, 512)               0         \n",
      "_________________________________________________________________\n",
      "dropout_1 (Dropout)          (None, 512)               0         \n",
      "_________________________________________________________________\n",
      "dense_2 (Dense)              (None, 512)               262656    \n",
      "_________________________________________________________________\n",
      "activation_2 (Activation)    (None, 512)               0         \n",
      "_________________________________________________________________\n",
      "dropout_2 (Dropout)          (None, 512)               0         \n",
      "_________________________________________________________________\n",
      "dense_3 (Dense)              (None, 10)                5130      \n",
      "_________________________________________________________________\n",
      "activation_3 (Activation)    (None, 10)                0         \n",
      "=================================================================\n",
      "Total params: 669,706\n",
      "Trainable params: 669,706\n",
      "Non-trainable params: 0\n",
      "_________________________________________________________________\n"
     ]
    }
   ],
   "source": [
    "model.summary()"
   ]
  },
  {
   "cell_type": "markdown",
   "metadata": {},
   "source": [
    "MODEL COMPILATION"
   ]
  },
  {
   "cell_type": "code",
   "execution_count": 9,
   "metadata": {
    "collapsed": true
   },
   "outputs": [],
   "source": [
    "model.compile(loss='categorical_crossentropy',optimizer=RMSprop(),metrics=['accuracy'])"
   ]
  },
  {
   "cell_type": "code",
   "execution_count": 10,
   "metadata": {},
   "outputs": [
    {
     "name": "stderr",
     "output_type": "stream",
     "text": [
      "C:\\Users\\prassha\\AppData\\Local\\Continuum\\Anaconda3\\lib\\site-packages\\keras\\models.py:844: UserWarning: The `nb_epoch` argument in `fit` has been renamed `epochs`.\n",
      "  warnings.warn('The `nb_epoch` argument in `fit` '\n"
     ]
    },
    {
     "name": "stdout",
     "output_type": "stream",
     "text": [
      "Train on 60000 samples, validate on 10000 samples\n",
      "Epoch 1/10\n",
      "60000/60000 [==============================] - 12s - loss: 0.2461 - acc: 0.9249 - val_loss: 0.1220 - val_acc: 0.9643\n",
      "Epoch 2/10\n",
      "60000/60000 [==============================] - 11s - loss: 0.1016 - acc: 0.9695 - val_loss: 0.0796 - val_acc: 0.9755\n",
      "Epoch 3/10\n",
      "60000/60000 [==============================] - 11s - loss: 0.0753 - acc: 0.9769 - val_loss: 0.0780 - val_acc: 0.9769\n",
      "Epoch 4/10\n",
      "60000/60000 [==============================] - 11s - loss: 0.0598 - acc: 0.9820 - val_loss: 0.0790 - val_acc: 0.9797\n",
      "Epoch 5/10\n",
      "60000/60000 [==============================] - 12s - loss: 0.0511 - acc: 0.9851 - val_loss: 0.0878 - val_acc: 0.9783\n",
      "Epoch 6/10\n",
      "60000/60000 [==============================] - 12s - loss: 0.0446 - acc: 0.9871 - val_loss: 0.0822 - val_acc: 0.9798\n",
      "Epoch 7/10\n",
      "60000/60000 [==============================] - 12s - loss: 0.0382 - acc: 0.9883 - val_loss: 0.0867 - val_acc: 0.9795\n",
      "Epoch 8/10\n",
      "60000/60000 [==============================] - 11s - loss: 0.0360 - acc: 0.9898 - val_loss: 0.0762 - val_acc: 0.9830\n",
      "Epoch 9/10\n",
      "60000/60000 [==============================] - 11s - loss: 0.0336 - acc: 0.9903 - val_loss: 0.0854 - val_acc: 0.9833\n",
      "Epoch 10/10\n",
      "60000/60000 [==============================] - 11s - loss: 0.0306 - acc: 0.9911 - val_loss: 0.0919 - val_acc: 0.9814\n"
     ]
    }
   ],
   "source": [
    "history = model.fit(X_train,Y_train,\n",
    "                   batch_size=batch_size,nb_epoch=nb_epochs,\n",
    "                   verbose=1,validation_data=(X_test,Y_test))"
   ]
  },
  {
   "cell_type": "code",
   "execution_count": 11,
   "metadata": {},
   "outputs": [
    {
     "data": {
      "text/plain": [
       "{'batch_size': 128,\n",
       " 'do_validation': True,\n",
       " 'epochs': 10,\n",
       " 'metrics': ['loss', 'acc', 'val_loss', 'val_acc'],\n",
       " 'samples': 60000,\n",
       " 'verbose': 1}"
      ]
     },
     "execution_count": 11,
     "metadata": {},
     "output_type": "execute_result"
    }
   ],
   "source": [
    "## we can check the param of the model after training\n",
    "history.params"
   ]
  },
  {
   "cell_type": "code",
   "execution_count": 12,
   "metadata": {},
   "outputs": [
    {
     "data": {
      "text/plain": [
       "{'acc': [0.92489999996821082,\n",
       "  0.96948333330154424,\n",
       "  0.9768833333015442,\n",
       "  0.98198333336512245,\n",
       "  0.98513333330154418,\n",
       "  0.98706666663487752,\n",
       "  0.98824999999999996,\n",
       "  0.98981666663487755,\n",
       "  0.99033333330154416,\n",
       "  0.99106666669845578],\n",
       " 'loss': [0.24612813951969148,\n",
       "  0.10162155381937822,\n",
       "  0.075253502432505295,\n",
       "  0.059845059924572709,\n",
       "  0.051077378912766772,\n",
       "  0.044595771386101844,\n",
       "  0.038168247671052813,\n",
       "  0.036023207616185146,\n",
       "  0.033611033290376263,\n",
       "  0.030619467217770095],\n",
       " 'val_acc': [0.96430000000000005,\n",
       "  0.97550000000000003,\n",
       "  0.97689999999999999,\n",
       "  0.97970000000000002,\n",
       "  0.97829999999999995,\n",
       "  0.9798,\n",
       "  0.97950000000000004,\n",
       "  0.98299999999999998,\n",
       "  0.98329999999999995,\n",
       "  0.98140000000000005],\n",
       " 'val_loss': [0.12198462744057179,\n",
       "  0.079612369871139524,\n",
       "  0.07797599339000881,\n",
       "  0.078980979344202201,\n",
       "  0.087764144134812525,\n",
       "  0.082223362440551867,\n",
       "  0.086683350652601798,\n",
       "  0.076163489398606912,\n",
       "  0.085442581455010991,\n",
       "  0.09189635857955436]}"
      ]
     },
     "execution_count": 12,
     "metadata": {},
     "output_type": "execute_result"
    }
   ],
   "source": [
    "history.history"
   ]
  },
  {
   "cell_type": "markdown",
   "metadata": {},
   "source": [
    "EVALUATION AND PREDICTION"
   ]
  },
  {
   "cell_type": "code",
   "execution_count": 13,
   "metadata": {},
   "outputs": [
    {
     "name": "stdout",
     "output_type": "stream",
     "text": [
      "Test score: 0.0918963650424\n",
      "Test accuracy: 0.9814\n"
     ]
    }
   ],
   "source": [
    "score = model.evaluate(X_test,Y_test,verbose=0)\n",
    "print('Test score:', score[0])\n",
    "print('Test accuracy:',score[1])"
   ]
  },
  {
   "cell_type": "markdown",
   "metadata": {},
   "source": [
    "Now lets predict one single sample"
   ]
  },
  {
   "cell_type": "code",
   "execution_count": 14,
   "metadata": {},
   "outputs": [
    {
     "name": "stdout",
     "output_type": "stream",
     "text": [
      "[ 0.  0.  0.  0.  0.  0.  0.  1.  0.  0.]\n"
     ]
    },
    {
     "data": {
      "text/plain": [
       "<matplotlib.image.AxesImage at 0x21ac4917cf8>"
      ]
     },
     "execution_count": 14,
     "metadata": {},
     "output_type": "execute_result"
    },
    {
     "data": {
      "image/png": "[encoded data removed]",
      "text/plain": [
       "<matplotlib.figure.Figure at 0x21ac146ebe0>"
      ]
     },
     "metadata": {},
     "output_type": "display_data"
    }
   ],
   "source": [
    "X_test_0 = X_test[0,:].reshape(1,784)\n",
    "Y_test_0 = Y_test[0,:]\n",
    "print(Y_test_0)\n",
    "plt.imshow(X_test_0.reshape(28,28))"
   ]
  },
  {
   "cell_type": "code",
   "execution_count": 15,
   "metadata": {},
   "outputs": [
    {
     "name": "stdout",
     "output_type": "stream",
     "text": [
      "Label of testing sample: 7\n",
      "\n",
      "Output of the softmax layer: [  5.73783546e-22   6.71347726e-16   1.05548307e-12   2.31721398e-09\n",
      "   1.09942386e-25   3.00724564e-15   5.04636227e-30   1.00000000e+00\n",
      "   8.53120150e-15   1.80906261e-13]\n",
      "\n",
      "Neural Network prediction: 7\n"
     ]
    }
   ],
   "source": [
    "pred = model.predict(X_test_0)\n",
    "print('Label of testing sample:', np.argmax(Y_test_0))\n",
    "print('\\nOutput of the softmax layer:',pred[0])\n",
    "print('\\nNeural Network prediction:', np.argmax(pred[0]))\n"
   ]
  },
  {
   "cell_type": "code",
   "execution_count": null,
   "metadata": {
    "collapsed": true
   },
   "outputs": [],
   "source": []
  }
 ],
 "metadata": {
  "kernelspec": {
   "display_name": "Python 3",
   "language": "python",
   "name": "python3"
  },
  "language_info": {
   "codemirror_mode": {
    "name": "ipython",
    "version": 3
   },
   "file_extension": ".py",
   "mimetype": "text/x-python",
   "name": "python",
   "nbconvert_exporter": "python",
   "pygments_lexer": "ipython3",
   "version": "3.6.1"
  }
 },
 "nbformat": 4,
 "nbformat_minor": 2
}
