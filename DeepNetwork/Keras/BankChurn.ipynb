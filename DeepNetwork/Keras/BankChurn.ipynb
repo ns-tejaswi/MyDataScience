{
 "cells": [
  {
   "cell_type": "markdown",
   "metadata": {},
   "source": [
    "https://medium.com/@pushkarmandot/build-your-first-deep-learning-neural-network-model-using-keras-in-python-a90b5864116d\n",
    "#Data and Business Problem:\n",
    "#Our basic aim is to predict customer churn for a certain bank i.e. which customer is going to leave this bank service."
   ]
  },
  {
   "cell_type": "code",
   "execution_count": 1,
   "metadata": {},
   "outputs": [
    {
     "data": {
      "text/html": [
       "<div>\n",
       "<style>\n",
       "    .dataframe thead tr:only-child th {\n",
       "        text-align: right;\n",
       "    }\n",
       "\n",
       "    .dataframe thead th {\n",
       "        text-align: left;\n",
       "    }\n",
       "\n",
       "    .dataframe tbody tr th {\n",
       "        vertical-align: top;\n",
       "    }\n",
       "</style>\n",
       "<table border=\"1\" class=\"dataframe\">\n",
       "  <thead>\n",
       "    <tr style=\"text-align: right;\">\n",
       "      <th></th>\n",
       "      <th>RowNumber</th>\n",
       "      <th>CustomerId</th>\n",
       "      <th>Surname</th>\n",
       "      <th>CreditScore</th>\n",
       "      <th>Geography</th>\n",
       "      <th>Gender</th>\n",
       "      <th>Age</th>\n",
       "      <th>Tenure</th>\n",
       "      <th>Balance</th>\n",
       "      <th>NumOfProducts</th>\n",
       "      <th>HasCrCard</th>\n",
       "      <th>IsActiveMember</th>\n",
       "      <th>EstimatedSalary</th>\n",
       "      <th>Exited</th>\n",
       "    </tr>\n",
       "  </thead>\n",
       "  <tbody>\n",
       "    <tr>\n",
       "      <th>0</th>\n",
       "      <td>1</td>\n",
       "      <td>15634602</td>\n",
       "      <td>Hargrave</td>\n",
       "      <td>619</td>\n",
       "      <td>France</td>\n",
       "      <td>Female</td>\n",
       "      <td>42</td>\n",
       "      <td>2</td>\n",
       "      <td>0.00</td>\n",
       "      <td>1</td>\n",
       "      <td>1</td>\n",
       "      <td>1</td>\n",
       "      <td>101348.88</td>\n",
       "      <td>1</td>\n",
       "    </tr>\n",
       "    <tr>\n",
       "      <th>1</th>\n",
       "      <td>2</td>\n",
       "      <td>15647311</td>\n",
       "      <td>Hill</td>\n",
       "      <td>608</td>\n",
       "      <td>Spain</td>\n",
       "      <td>Female</td>\n",
       "      <td>41</td>\n",
       "      <td>1</td>\n",
       "      <td>83807.86</td>\n",
       "      <td>1</td>\n",
       "      <td>0</td>\n",
       "      <td>1</td>\n",
       "      <td>112542.58</td>\n",
       "      <td>0</td>\n",
       "    </tr>\n",
       "    <tr>\n",
       "      <th>2</th>\n",
       "      <td>3</td>\n",
       "      <td>15619304</td>\n",
       "      <td>Onio</td>\n",
       "      <td>502</td>\n",
       "      <td>France</td>\n",
       "      <td>Female</td>\n",
       "      <td>42</td>\n",
       "      <td>8</td>\n",
       "      <td>159660.80</td>\n",
       "      <td>3</td>\n",
       "      <td>1</td>\n",
       "      <td>0</td>\n",
       "      <td>113931.57</td>\n",
       "      <td>1</td>\n",
       "    </tr>\n",
       "    <tr>\n",
       "      <th>3</th>\n",
       "      <td>4</td>\n",
       "      <td>15701354</td>\n",
       "      <td>Boni</td>\n",
       "      <td>699</td>\n",
       "      <td>France</td>\n",
       "      <td>Female</td>\n",
       "      <td>39</td>\n",
       "      <td>1</td>\n",
       "      <td>0.00</td>\n",
       "      <td>2</td>\n",
       "      <td>0</td>\n",
       "      <td>0</td>\n",
       "      <td>93826.63</td>\n",
       "      <td>0</td>\n",
       "    </tr>\n",
       "    <tr>\n",
       "      <th>4</th>\n",
       "      <td>5</td>\n",
       "      <td>15737888</td>\n",
       "      <td>Mitchell</td>\n",
       "      <td>850</td>\n",
       "      <td>Spain</td>\n",
       "      <td>Female</td>\n",
       "      <td>43</td>\n",
       "      <td>2</td>\n",
       "      <td>125510.82</td>\n",
       "      <td>1</td>\n",
       "      <td>1</td>\n",
       "      <td>1</td>\n",
       "      <td>79084.10</td>\n",
       "      <td>0</td>\n",
       "    </tr>\n",
       "  </tbody>\n",
       "</table>\n",
       "</div>"
      ],
      "text/plain": [
       "   RowNumber  CustomerId   Surname  CreditScore Geography  Gender  Age  \\\n",
       "0          1    15634602  Hargrave          619    France  Female   42   \n",
       "1          2    15647311      Hill          608     Spain  Female   41   \n",
       "2          3    15619304      Onio          502    France  Female   42   \n",
       "3          4    15701354      Boni          699    France  Female   39   \n",
       "4          5    15737888  Mitchell          850     Spain  Female   43   \n",
       "\n",
       "   Tenure    Balance  NumOfProducts  HasCrCard  IsActiveMember  \\\n",
       "0       2       0.00              1          1               1   \n",
       "1       1   83807.86              1          0               1   \n",
       "2       8  159660.80              3          1               0   \n",
       "3       1       0.00              2          0               0   \n",
       "4       2  125510.82              1          1               1   \n",
       "\n",
       "   EstimatedSalary  Exited  \n",
       "0        101348.88       1  \n",
       "1        112542.58       0  \n",
       "2        113931.57       1  \n",
       "3         93826.63       0  \n",
       "4         79084.10       0  "
      ]
     },
     "execution_count": 1,
     "metadata": {},
     "output_type": "execute_result"
    }
   ],
   "source": [
    "import numpy as np\n",
    "import matplotlib.pyplot as plt\n",
    "import pandas as pd\n",
    "\n",
    "dataset = pd.read_csv('Churn_Modelling.csv')\n",
    "\n",
    "dataset.head()\n"
   ]
  },
  {
   "cell_type": "markdown",
   "metadata": {},
   "source": [
    "Create matrix of features and matrix of target variable. In this case we are excluding column 1, 2 & 3 as those are ‘row_number’, ‘customerid’ & 'Surname' which are not useful in our analysis. Column 14, ‘Exited’ is our Target Variable"
   ]
  },
  {
   "cell_type": "code",
   "execution_count": 2,
   "metadata": {},
   "outputs": [],
   "source": [
    "from sklearn.preprocessing import LabelEncoder, OneHotEncoder\n",
    "## Read this for categorical Encoding : http://pbpython.com/categorical-encoding.html\n",
    "##pd.get_dummies(dataset, columns=[\"Geography\", \"Gender\"], prefix=[\"Geography\", \"Gender\"]).head()"
   ]
  },
  {
   "cell_type": "code",
   "execution_count": 3,
   "metadata": {},
   "outputs": [],
   "source": [
    "def getXy_1(dataset,target):\n",
    "    df = pd.get_dummies(dataset, columns=[\"Geography\", \"Gender\"], prefix=[\"Geography\", \"Gender\"])\n",
    "    \n",
    "    y = df[target]\n",
    "    X = df.loc[:, df.columns != target]\n",
    "    return X,y\n",
    "\n",
    "\n",
    "def getXy_2(dataset,target):    \n",
    "    lb = LabelEncoder()\n",
    "    dataset['Gender'] = lb.fit_transform(dataset['Gender'])\n",
    "    dataset['Geography'] = lb.fit_transform(dataset['Geography'])\n",
    "    ## One-Hot Coding\n",
    "    dataset = pd.get_dummies(dataset, columns = ['Geography','Gender'])\n",
    "    y = dataset[target]\n",
    "    X = dataset.loc[:, dataset.columns != target]\n",
    "    return X,y\n",
    "    "
   ]
  },
  {
   "cell_type": "code",
   "execution_count": 4,
   "metadata": {},
   "outputs": [
    {
     "name": "stdout",
     "output_type": "stream",
     "text": [
      "X.columns: Index(['RowNumber', 'CustomerId', 'Surname', 'CreditScore', 'Age', 'Tenure',\n",
      "       'Balance', 'NumOfProducts', 'HasCrCard', 'IsActiveMember',\n",
      "       'EstimatedSalary', 'Geography_0', 'Geography_1', 'Geography_2',\n",
      "       'Gender_0', 'Gender_1'],\n",
      "      dtype='object')\n"
     ]
    },
    {
     "data": {
      "text/plain": [
       "array([1, 0, 1, ..., 1, 1, 0], dtype=int64)"
      ]
     },
     "execution_count": 4,
     "metadata": {},
     "output_type": "execute_result"
    }
   ],
   "source": [
    "X,y = getXy_2(dataset,target='Exited')\n",
    "print(\"X.columns:\",X.columns)\n",
    "X = X.iloc[:, 3:].values\n",
    "y = y.values\n",
    "y"
   ]
  },
  {
   "cell_type": "code",
   "execution_count": 5,
   "metadata": {
    "collapsed": true
   },
   "outputs": [],
   "source": [
    "# Splitting the dataset into the Training set and Test set\n",
    "from sklearn.model_selection import train_test_split\n",
    "X_train,X_test, y_train, y_test = train_test_split(X,y,test_size=0.2)"
   ]
  },
  {
   "cell_type": "markdown",
   "metadata": {},
   "source": [
    " I know you are tired of data preprocessing but I promise this is the last step. If you carefully observe data, you will find that data is not scaled properly. Some variable has value in thousands while some have value is tens or ones. We don’t want any of our variable to dominate on other so let’s go and scale data.\n",
    " \n",
    " ‘StandardScaler’ is available in ScikitLearn. In the following code we are fitting and transforming StandardScaler method on train data. We have to standardize our scaling so we will use the same fitted method to transform/scale test data."
   ]
  },
  {
   "cell_type": "code",
   "execution_count": 6,
   "metadata": {
    "collapsed": true
   },
   "outputs": [],
   "source": [
    "from sklearn.preprocessing import StandardScaler\n",
    "sc = StandardScaler()\n",
    "X_train = sc.fit_transform(X_train)\n",
    "X_test = sc.fit_transform(X_test)"
   ]
  },
  {
   "cell_type": "code",
   "execution_count": 7,
   "metadata": {},
   "outputs": [
    {
     "data": {
      "text/plain": [
       "array([[ 0.4034289 ,  0.85614078, -1.03419226, ...,  1.73205081,\n",
       "         1.09196221, -1.09196221],\n",
       "       [ 1.21234527, -1.04800752, -0.6883953 , ..., -0.57735027,\n",
       "         1.09196221, -1.09196221],\n",
       "       [ 0.33083384, -0.57197045,  1.38638647, ..., -0.57735027,\n",
       "         1.09196221, -1.09196221],\n",
       "       ..., \n",
       "       [ 0.78714564, -0.38155562,  0.00319862, ..., -0.57735027,\n",
       "        -0.91578261,  0.91578261],\n",
       "       [-0.85142856,  0.3801037 ,  1.04058951, ...,  1.73205081,\n",
       "        -0.91578261,  0.91578261],\n",
       "       [-0.24992664, -0.38155562,  0.69479255, ...,  1.73205081,\n",
       "         1.09196221, -1.09196221]])"
      ]
     },
     "execution_count": 7,
     "metadata": {},
     "output_type": "execute_result"
    }
   ],
   "source": [
    "X_train"
   ]
  },
  {
   "cell_type": "code",
   "execution_count": 8,
   "metadata": {},
   "outputs": [
    {
     "data": {
      "text/plain": [
       "(8000, 13)"
      ]
     },
     "execution_count": 8,
     "metadata": {},
     "output_type": "execute_result"
    }
   ],
   "source": [
    "X_train.shape"
   ]
  },
  {
   "cell_type": "code",
   "execution_count": 9,
   "metadata": {},
   "outputs": [
    {
     "name": "stderr",
     "output_type": "stream",
     "text": [
      "Using TensorFlow backend.\n"
     ]
    }
   ],
   "source": [
    "import keras\n",
    "from keras.models import Sequential\n",
    "\n",
    "from keras.layers.core import Dense,Dropout, Dropout,Activation"
   ]
  },
  {
   "cell_type": "code",
   "execution_count": 10,
   "metadata": {
    "collapsed": true
   },
   "outputs": [],
   "source": [
    "model = Sequential()"
   ]
  },
  {
   "cell_type": "code",
   "execution_count": 11,
   "metadata": {},
   "outputs": [],
   "source": [
    "model.add(Dense(16,input_dim=13))\n",
    "model.add(Activation('relu'))\n",
    "model.add(Dropout(0.2))\n",
    "\n",
    "model.add(Dense(16))\n",
    "model.add(Activation('relu'))\n",
    "model.add(Dropout(0.2))\n",
    "\n",
    "model.add(Dense(8))\n",
    "model.add(Activation('relu'))\n",
    "model.add(Dropout(0.2))\n",
    "\n",
    "model.add(Dense(1))\n",
    "model.add(Activation('sigmoid'))"
   ]
  },
  {
   "cell_type": "code",
   "execution_count": 12,
   "metadata": {},
   "outputs": [
    {
     "name": "stdout",
     "output_type": "stream",
     "text": [
      "_________________________________________________________________\n",
      "Layer (type)                 Output Shape              Param #   \n",
      "=================================================================\n",
      "dense_1 (Dense)              (None, 16)                224       \n",
      "_________________________________________________________________\n",
      "activation_1 (Activation)    (None, 16)                0         \n",
      "_________________________________________________________________\n",
      "dropout_1 (Dropout)          (None, 16)                0         \n",
      "_________________________________________________________________\n",
      "dense_2 (Dense)              (None, 16)                272       \n",
      "_________________________________________________________________\n",
      "activation_2 (Activation)    (None, 16)                0         \n",
      "_________________________________________________________________\n",
      "dropout_2 (Dropout)          (None, 16)                0         \n",
      "_________________________________________________________________\n",
      "dense_3 (Dense)              (None, 8)                 136       \n",
      "_________________________________________________________________\n",
      "activation_3 (Activation)    (None, 8)                 0         \n",
      "_________________________________________________________________\n",
      "dropout_3 (Dropout)          (None, 8)                 0         \n",
      "_________________________________________________________________\n",
      "dense_4 (Dense)              (None, 1)                 9         \n",
      "_________________________________________________________________\n",
      "activation_4 (Activation)    (None, 1)                 0         \n",
      "=================================================================\n",
      "Total params: 641\n",
      "Trainable params: 641\n",
      "Non-trainable params: 0\n",
      "_________________________________________________________________\n"
     ]
    }
   ],
   "source": [
    "model.summary()"
   ]
  },
  {
   "cell_type": "code",
   "execution_count": 13,
   "metadata": {
    "collapsed": true
   },
   "outputs": [],
   "source": [
    "# Compiling Neural Network\n",
    "model.compile(optimizer = 'adam', loss = 'binary_crossentropy', metrics = ['accuracy'])"
   ]
  },
  {
   "cell_type": "code",
   "execution_count": 14,
   "metadata": {},
   "outputs": [
    {
     "name": "stderr",
     "output_type": "stream",
     "text": [
      "C:\\Users\\prassha\\AppData\\Local\\Continuum\\Anaconda3\\lib\\site-packages\\keras\\models.py:844: UserWarning: The `nb_epoch` argument in `fit` has been renamed `epochs`.\n",
      "  warnings.warn('The `nb_epoch` argument in `fit` '\n"
     ]
    },
    {
     "name": "stdout",
     "output_type": "stream",
     "text": [
      "Epoch 1/100\n",
      "8000/8000 [==============================] - 1s - loss: 0.5072 - acc: 0.7852     \n",
      "Epoch 2/100\n",
      "8000/8000 [==============================] - 1s - loss: 0.4530 - acc: 0.8054     - ETA: 0s - loss: 0.46\n",
      "Epoch 3/100\n",
      "8000/8000 [==============================] - 1s - loss: 0.4448 - acc: 0.8094     - ETA: 0s - loss: 0.4504 - acc:\n",
      "Epoch 4/100\n",
      "8000/8000 [==============================] - 1s - loss: 0.4370 - acc: 0.8106     \n",
      "Epoch 5/100\n",
      "8000/8000 [==============================] - 1s - loss: 0.4254 - acc: 0.8161     \n",
      "Epoch 6/100\n",
      "8000/8000 [==============================] - 1s - loss: 0.4220 - acc: 0.8200     - ETA: 0s - loss: 0.4213 - acc: 0.8\n",
      "Epoch 7/100\n",
      "8000/8000 [==============================] - 1s - loss: 0.4067 - acc: 0.8296     \n",
      "Epoch 8/100\n",
      "8000/8000 [==============================] - 1s - loss: 0.4011 - acc: 0.8320     - ETA: 0s - loss: 0.4032 - acc: 0.83 - ETA: 0s - loss: 0.3954\n",
      "Epoch 9/100\n",
      "8000/8000 [==============================] - 1s - loss: 0.3975 - acc: 0.8350     \n",
      "Epoch 10/100\n",
      "8000/8000 [==============================] - 1s - loss: 0.3881 - acc: 0.8380     \n",
      "Epoch 11/100\n",
      "8000/8000 [==============================] - 1s - loss: 0.3847 - acc: 0.8395     \n",
      "Epoch 12/100\n",
      "8000/8000 [==============================] - 1s - loss: 0.3832 - acc: 0.8424     \n",
      "Epoch 13/100\n",
      "8000/8000 [==============================] - 1s - loss: 0.3801 - acc: 0.8425     - ETA: 0s - loss: 0.3893 -\n",
      "Epoch 14/100\n",
      "8000/8000 [==============================] - 1s - loss: 0.3779 - acc: 0.8439     \n",
      "Epoch 15/100\n",
      "8000/8000 [==============================] - 1s - loss: 0.3746 - acc: 0.8475     \n",
      "Epoch 16/100\n",
      "8000/8000 [==============================] - 1s - loss: 0.3777 - acc: 0.8462     \n",
      "Epoch 17/100\n",
      "8000/8000 [==============================] - 1s - loss: 0.3693 - acc: 0.8492     - ETA: 0s - loss: 0.3551 -\n",
      "Epoch 18/100\n",
      "8000/8000 [==============================] - 1s - loss: 0.3786 - acc: 0.8421     \n",
      "Epoch 19/100\n",
      "8000/8000 [==============================] - 1s - loss: 0.3712 - acc: 0.8476     \n",
      "Epoch 20/100\n",
      "8000/8000 [==============================] - 1s - loss: 0.3735 - acc: 0.8475     \n",
      "Epoch 21/100\n",
      "8000/8000 [==============================] - 1s - loss: 0.3721 - acc: 0.8475     \n",
      "Epoch 22/100\n",
      "8000/8000 [==============================] - 1s - loss: 0.3711 - acc: 0.8481     - ETA: 0s - loss: 0.36\n",
      "Epoch 23/100\n",
      "8000/8000 [==============================] - 1s - loss: 0.3730 - acc: 0.8475     \n",
      "Epoch 24/100\n",
      "8000/8000 [==============================] - 1s - loss: 0.3715 - acc: 0.8457     \n",
      "Epoch 25/100\n",
      "8000/8000 [==============================] - 1s - loss: 0.3699 - acc: 0.8460     \n",
      "Epoch 26/100\n",
      "8000/8000 [==============================] - 1s - loss: 0.3649 - acc: 0.8465     - ETA: 0s - loss: 0.3720 -\n",
      "Epoch 27/100\n",
      "8000/8000 [==============================] - 1s - loss: 0.3687 - acc: 0.8484     \n",
      "Epoch 28/100\n",
      "8000/8000 [==============================] - 1s - loss: 0.3669 - acc: 0.8474     \n",
      "Epoch 29/100\n",
      "8000/8000 [==============================] - 1s - loss: 0.3691 - acc: 0.8467     \n",
      "Epoch 30/100\n",
      "8000/8000 [==============================] - 1s - loss: 0.3686 - acc: 0.8486     \n",
      "Epoch 31/100\n",
      "8000/8000 [==============================] - 1s - loss: 0.3679 - acc: 0.8489     \n",
      "Epoch 32/100\n",
      "8000/8000 [==============================] - 1s - loss: 0.3672 - acc: 0.8492     - ETA: 0s - loss:\n",
      "Epoch 33/100\n",
      "8000/8000 [==============================] - 1s - loss: 0.3653 - acc: 0.8531     \n",
      "Epoch 34/100\n",
      "8000/8000 [==============================] - 1s - loss: 0.3634 - acc: 0.8500     \n",
      "Epoch 35/100\n",
      "8000/8000 [==============================] - 1s - loss: 0.3672 - acc: 0.8459     \n",
      "Epoch 36/100\n",
      "8000/8000 [==============================] - 1s - loss: 0.3636 - acc: 0.8490     \n",
      "Epoch 37/100\n",
      "8000/8000 [==============================] - 1s - loss: 0.3645 - acc: 0.8494     \n",
      "Epoch 38/100\n",
      "8000/8000 [==============================] - 1s - loss: 0.3635 - acc: 0.8502     \n",
      "Epoch 39/100\n",
      "8000/8000 [==============================] - 1s - loss: 0.3556 - acc: 0.8517     \n",
      "Epoch 40/100\n",
      "8000/8000 [==============================] - 1s - loss: 0.3628 - acc: 0.8496     \n",
      "Epoch 41/100\n",
      "8000/8000 [==============================] - 1s - loss: 0.3656 - acc: 0.8481     \n",
      "Epoch 42/100\n",
      "8000/8000 [==============================] - 1s - loss: 0.3619 - acc: 0.8474     \n",
      "Epoch 43/100\n",
      "8000/8000 [==============================] - 1s - loss: 0.3646 - acc: 0.8486     \n",
      "Epoch 44/100\n",
      "8000/8000 [==============================] - 1s - loss: 0.3610 - acc: 0.8524     \n",
      "Epoch 45/100\n",
      "8000/8000 [==============================] - 1s - loss: 0.3583 - acc: 0.8527     \n",
      "Epoch 46/100\n",
      "8000/8000 [==============================] - 1s - loss: 0.3630 - acc: 0.8487     \n",
      "Epoch 47/100\n",
      "8000/8000 [==============================] - 1s - loss: 0.3624 - acc: 0.8505     \n",
      "Epoch 48/100\n",
      "8000/8000 [==============================] - 1s - loss: 0.3603 - acc: 0.8531     - ETA: 0s - loss: 0.3605 - acc: 0.\n",
      "Epoch 49/100\n",
      "8000/8000 [==============================] - 1s - loss: 0.3592 - acc: 0.8516     \n",
      "Epoch 50/100\n",
      "8000/8000 [==============================] - 1s - loss: 0.3579 - acc: 0.8522     - ETA: 0s - loss: 0.3465 - ac - ETA: 0s - loss: 0.3494 - acc:\n",
      "Epoch 51/100\n",
      "8000/8000 [==============================] - 1s - loss: 0.3567 - acc: 0.8532     \n",
      "Epoch 52/100\n",
      "8000/8000 [==============================] - 1s - loss: 0.3579 - acc: 0.8530     \n",
      "Epoch 53/100\n",
      "8000/8000 [==============================] - 1s - loss: 0.3604 - acc: 0.8492     \n",
      "Epoch 54/100\n",
      "8000/8000 [==============================] - 1s - loss: 0.3570 - acc: 0.8556     \n",
      "Epoch 55/100\n",
      "8000/8000 [==============================] - 1s - loss: 0.3557 - acc: 0.8536     \n",
      "Epoch 56/100\n",
      "8000/8000 [==============================] - 1s - loss: 0.3594 - acc: 0.8537     \n",
      "Epoch 57/100\n",
      "8000/8000 [==============================] - 1s - loss: 0.3621 - acc: 0.8486     - ETA: 0s - loss: 0.3617 - acc\n",
      "Epoch 58/100\n",
      "8000/8000 [==============================] - 1s - loss: 0.3568 - acc: 0.8507     - ETA: 0s - loss: 0.3\n",
      "Epoch 59/100\n",
      "8000/8000 [==============================] - 1s - loss: 0.3609 - acc: 0.8490     \n",
      "Epoch 60/100\n",
      "8000/8000 [==============================] - 1s - loss: 0.3538 - acc: 0.8547     \n",
      "Epoch 61/100\n",
      "8000/8000 [==============================] - 1s - loss: 0.3588 - acc: 0.8495     \n",
      "Epoch 62/100\n",
      "8000/8000 [==============================] - 1s - loss: 0.3653 - acc: 0.8507     \n",
      "Epoch 63/100\n",
      "8000/8000 [==============================] - 1s - loss: 0.3601 - acc: 0.8497     \n",
      "Epoch 64/100\n",
      "8000/8000 [==============================] - 1s - loss: 0.3599 - acc: 0.8519     \n",
      "Epoch 65/100\n",
      "8000/8000 [==============================] - 1s - loss: 0.3598 - acc: 0.8485     - ETA: 0s - loss: \n",
      "Epoch 66/100\n",
      "8000/8000 [==============================] - 1s - loss: 0.3595 - acc: 0.8495     \n",
      "Epoch 67/100\n",
      "8000/8000 [==============================] - 1s - loss: 0.3574 - acc: 0.8521     \n",
      "Epoch 68/100\n",
      "8000/8000 [==============================] - 1s - loss: 0.3597 - acc: 0.8494     \n",
      "Epoch 69/100\n",
      "8000/8000 [==============================] - 1s - loss: 0.3600 - acc: 0.8511     - ETA: 0s - loss: 0.3654 - \n",
      "Epoch 70/100\n",
      "8000/8000 [==============================] - 1s - loss: 0.3532 - acc: 0.8527     - ETA: 1s - loss\n",
      "Epoch 71/100\n",
      "8000/8000 [==============================] - 1s - loss: 0.3603 - acc: 0.8515     \n",
      "Epoch 72/100\n",
      "8000/8000 [==============================] - 1s - loss: 0.3588 - acc: 0.8501     \n",
      "Epoch 73/100\n",
      "8000/8000 [==============================] - 1s - loss: 0.3552 - acc: 0.8545     \n",
      "Epoch 74/100\n",
      "8000/8000 [==============================] - 1s - loss: 0.3628 - acc: 0.8495     - ETA: 0s - loss: 0.3582 - acc:  - ETA: 0s - loss: 0.3639\n",
      "Epoch 75/100\n",
      "8000/8000 [==============================] - 1s - loss: 0.3532 - acc: 0.8521     \n",
      "Epoch 76/100\n",
      "8000/8000 [==============================] - 1s - loss: 0.3582 - acc: 0.8527     \n",
      "Epoch 77/100\n",
      "8000/8000 [==============================] - 1s - loss: 0.3589 - acc: 0.8512     - ETA: 0s - loss: 0.3535 - acc: 0.8\n",
      "Epoch 78/100\n",
      "8000/8000 [==============================] - 1s - loss: 0.3572 - acc: 0.8549     \n",
      "Epoch 79/100\n",
      "8000/8000 [==============================] - 1s - loss: 0.3580 - acc: 0.8515     \n",
      "Epoch 80/100\n",
      "8000/8000 [==============================] - 1s - loss: 0.3554 - acc: 0.8525     \n",
      "Epoch 81/100\n"
     ]
    },
    {
     "name": "stdout",
     "output_type": "stream",
     "text": [
      "8000/8000 [==============================] - 1s - loss: 0.3574 - acc: 0.8522     \n",
      "Epoch 82/100\n",
      "8000/8000 [==============================] - 1s - loss: 0.3544 - acc: 0.8545     \n",
      "Epoch 83/100\n",
      "8000/8000 [==============================] - 1s - loss: 0.3556 - acc: 0.8539     \n",
      "Epoch 84/100\n",
      "8000/8000 [==============================] - 1s - loss: 0.3573 - acc: 0.8531     \n",
      "Epoch 85/100\n",
      "8000/8000 [==============================] - 1s - loss: 0.3594 - acc: 0.8516     \n",
      "Epoch 86/100\n",
      "8000/8000 [==============================] - 1s - loss: 0.3576 - acc: 0.8550     \n",
      "Epoch 87/100\n",
      "8000/8000 [==============================] - 1s - loss: 0.3557 - acc: 0.8516     \n",
      "Epoch 88/100\n",
      "8000/8000 [==============================] - 1s - loss: 0.3540 - acc: 0.8551     \n",
      "Epoch 89/100\n",
      "8000/8000 [==============================] - 1s - loss: 0.3593 - acc: 0.8477     \n",
      "Epoch 90/100\n",
      "8000/8000 [==============================] - 1s - loss: 0.3544 - acc: 0.8499     \n",
      "Epoch 91/100\n",
      "8000/8000 [==============================] - 1s - loss: 0.3552 - acc: 0.8535     \n",
      "Epoch 92/100\n",
      "8000/8000 [==============================] - 1s - loss: 0.3544 - acc: 0.8522     \n",
      "Epoch 93/100\n",
      "8000/8000 [==============================] - 1s - loss: 0.3524 - acc: 0.8559     \n",
      "Epoch 94/100\n",
      "8000/8000 [==============================] - 1s - loss: 0.3555 - acc: 0.8510     \n",
      "Epoch 95/100\n",
      "8000/8000 [==============================] - 1s - loss: 0.3544 - acc: 0.8561     - ETA: 0s - loss: 0.3534 - acc: 0.857\n",
      "Epoch 96/100\n",
      "8000/8000 [==============================] - 1s - loss: 0.3565 - acc: 0.8511     \n",
      "Epoch 97/100\n",
      "8000/8000 [==============================] - 1s - loss: 0.3557 - acc: 0.8536     \n",
      "Epoch 98/100\n",
      "8000/8000 [==============================] - 1s - loss: 0.3591 - acc: 0.8530     - ETA: 0s - loss: 0.3603 - acc: 0.85\n",
      "Epoch 99/100\n",
      "8000/8000 [==============================] - 1s - loss: 0.3536 - acc: 0.8557     \n",
      "Epoch 100/100\n",
      "8000/8000 [==============================] - 1s - loss: 0.3592 - acc: 0.8525     \n"
     ]
    },
    {
     "data": {
      "text/plain": [
       "<keras.callbacks.History at 0x2448633e4e0>"
      ]
     },
     "execution_count": 14,
     "metadata": {},
     "output_type": "execute_result"
    }
   ],
   "source": [
    "# Fitting our model \n",
    "model.fit(X_train, y_train, batch_size = 10, nb_epoch = 100)"
   ]
  },
  {
   "cell_type": "code",
   "execution_count": 15,
   "metadata": {},
   "outputs": [
    {
     "data": {
      "text/plain": [
       "array([[False],\n",
       "       [False],\n",
       "       [ True],\n",
       "       ..., \n",
       "       [False],\n",
       "       [False],\n",
       "       [False]], dtype=bool)"
      ]
     },
     "execution_count": 15,
     "metadata": {},
     "output_type": "execute_result"
    }
   ],
   "source": [
    "##Predicting the test set results\n",
    "y_pred = model.predict(X_test)\n",
    "y_pred = (y_pred>0.4)\n",
    "y_pred"
   ]
  },
  {
   "cell_type": "code",
   "execution_count": 16,
   "metadata": {
    "collapsed": true
   },
   "outputs": [],
   "source": [
    "# Creating the Confusion Matrix\n",
    "from sklearn.metrics import confusion_matrix\n",
    "cm = confusion_matrix(y_test, y_pred)"
   ]
  },
  {
   "cell_type": "code",
   "execution_count": 17,
   "metadata": {},
   "outputs": [
    {
     "data": {
      "text/plain": [
       "array([[1497,  104],\n",
       "       [ 172,  227]])"
      ]
     },
     "execution_count": 17,
     "metadata": {},
     "output_type": "execute_result"
    }
   ],
   "source": [
    "cm"
   ]
  },
  {
   "cell_type": "code",
   "execution_count": null,
   "metadata": {
    "collapsed": true
   },
   "outputs": [],
   "source": []
  }
 ],
 "metadata": {
  "kernelspec": {
   "display_name": "Python 3",
   "language": "python",
   "name": "python3"
  },
  "language_info": {
   "codemirror_mode": {
    "name": "ipython",
    "version": 3
   },
   "file_extension": ".py",
   "mimetype": "text/x-python",
   "name": "python",
   "nbconvert_exporter": "python",
   "pygments_lexer": "ipython3",
   "version": "3.6.1"
  }
 },
 "nbformat": 4,
 "nbformat_minor": 2
}
